{
 "cells": [
  {
   "cell_type": "markdown",
   "metadata": {},
   "source": [
    "# Python_Homework"
   ]
  },
  {
   "cell_type": "code",
   "execution_count": 33,
   "metadata": {},
   "outputs": [],
   "source": [
    "# Import pathlib and csv library\n",
    "from pathlib import Path\n",
    "import csv\n",
    "\n",
    "# Set file path\n",
    "csvpath = Path('..\\\\Resources\\\\budget_data.csv')\n"
   ]
  },
  {
   "cell_type": "code",
   "execution_count": 34,
   "metadata": {},
   "outputs": [],
   "source": [
    "# Set variables for the data\n",
    "total_months = 0\n",
    "total_net_profit_loss = 0\n",
    "net_change_list = []\n",
    "mean_change = 0\n",
    "greatest_increase_profits = ['',0]\n",
    "greatest_decrease_losses = ['',0]"
   ]
  },
  {
   "cell_type": "code",
   "execution_count": 35,
   "metadata": {},
   "outputs": [
    {
     "name": "stdout",
     "output_type": "stream",
     "text": [
      "38382578\n"
     ]
    }
   ],
   "source": [
    "# Time to get crackin :]\n",
    "# setting path to \"budget data\"\n",
    "with open(csvpath) as budget_data:\n",
    "    read_budget_data = csv.reader(budget_data)\n",
    "    header = next(read_budget_data)\n",
    "    first_row = next(read_budget_data) # displaying necessary data and skipping header\n",
    "    total_months = total_months + 1 # listing total of months\n",
    "    total_net_profit_loss = total_net_profit_loss + int(first_row[1]) # \n",
    "    last_months_value = int(first_row[1])\n",
    "    # for each date in the data\n",
    "    for row in read_budget_data:\n",
    "        total_months += 1\n",
    "        total_net_profit_loss = total_net_profit_loss + int(row[1])\n",
    "        mean_change = int(row[1]) - last_months_value\n",
    "        last_months_value = int(row[1])\n",
    "        net_change_list.append(mean_change)\n",
    "        # Create if statement to find greatest increase and decrease to profits\n",
    "        if mean_change > greatest_increase_profits[1]:\n",
    "            greatest_increase_profits[0] = row[0]\n",
    "            greatest_increase_profits[1] = mean_change\n",
    "        if mean_change < greatest_decrease_losses[1]:\n",
    "            greatest_decrease_losses[0] = row[0]\n",
    "            greatest_decrease_losses[1] = mean_change\n",
    "print(total_net_profit_loss)"
   ]
  },
  {
   "cell_type": "code",
   "execution_count": 36,
   "metadata": {},
   "outputs": [],
   "source": [
    "# Input calculation for average change\n",
    "total_average = sum(net_change_list) / len(net_change_list)"
   ]
  },
  {
   "cell_type": "code",
   "execution_count": 37,
   "metadata": {},
   "outputs": [
    {
     "name": "stdout",
     "output_type": "stream",
     "text": [
      "Financial Analysis\n",
      "Total Months:86\n",
      "Total:38382578\n",
      "Average Change:-2315.1176470588234\n",
      "Greatest Increase in Profits:['Feb-2012', 1926159]\n",
      "Greatest Decrease in Profits:['Sep-2013', -2196167]\n",
      "Boom-Shakalaka!!!\n"
     ]
    }
   ],
   "source": [
    "# Print final result :]\n",
    "print(f'Financial Analysis')\n",
    "print(f'Total Months:{total_months}')\n",
    "print(f'Total:{total_net_profit_loss}')\n",
    "print(f'Average Change:{total_average}')\n",
    "print(f'Greatest Increase in Profits:{greatest_increase_profits}')\n",
    "print(f'Greatest Decrease in Profits:{greatest_decrease_losses}')\n",
    "# Celebrate!\n",
    "print(f'Boom-Shakalaka!!!')"
   ]
  }
 ],
 "metadata": {
  "interpreter": {
   "hash": "a6dbd05ec29e01677a02696d7402add804b78700a2ad4dc7bea168b59bdae2d9"
  },
  "kernelspec": {
   "display_name": "Python 3.7.11",
   "language": "python",
   "name": "python3"
  },
  "language_info": {
   "codemirror_mode": {
    "name": "ipython",
    "version": 3
   },
   "file_extension": ".py",
   "mimetype": "text/x-python",
   "name": "python",
   "nbconvert_exporter": "python",
   "pygments_lexer": "ipython3",
   "version": "3.7.11"
  },
  "orig_nbformat": 4
 },
 "nbformat": 4,
 "nbformat_minor": 2
}
